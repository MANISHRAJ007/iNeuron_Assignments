{
 "cells": [
  {
   "cell_type": "markdown",
   "metadata": {},
   "source": [
    "#### 1.1 Write a Python Program(with class concepts) to find the area of the triangle using the below\n",
    "\n",
    "formula.\n",
    "area = (s*(s-a)*(s-b)*(s-c)) ** 0.5\n",
    "Function to take the length of the sides of triangle from user should be defined in the parent\n",
    "class and function to calculate the area should be defined in subclass."
   ]
  },
  {
   "cell_type": "code",
   "execution_count": 5,
   "metadata": {},
   "outputs": [
    {
     "name": "stdout",
     "output_type": "stream",
     "text": [
      "Enter side1 length: 5\n",
      "Enter side2 length: 4\n",
      "Enter side3 length: 3\n",
      "\n",
      "Area of Traingle is:  6.0\n"
     ]
    }
   ],
   "source": [
    "from abc import ABC\n",
    "class P_SideofTriangle(ABC):\n",
    "    def __init__(self):\n",
    "        pass\n",
    "    def user_input(self):\n",
    "        a=int(input('Enter side1 length: '))\n",
    "        b=int(input('Enter side2 length: '))\n",
    "        c=int(input('Enter side3 length: '))\n",
    "        return (a,b,c)\n",
    "    def Area_calculator(self):\n",
    "        pass\n",
    "    \n",
    "class C_AreaOfTriangle(P_SideofTriangle):\n",
    "    def __init__(self):\n",
    "        pass\n",
    "    \n",
    "    def Area_calculator(self,a,b,c):\n",
    "        s=(a+b+c)/2\n",
    "        area=(s*(s-a)*(s-b)*(s-c)) ** 0.5\n",
    "        if area==0 :\n",
    "            print('Impossible Triangle,kindly give correct dimensions of traingle')\n",
    "            exit(0)\n",
    "        print('\\nArea of Traingle is: ',area)\n",
    "        #return area\n",
    "\n",
    "    \n",
    "    \n",
    "obj=C_AreaOfTriangle()\n",
    "a,b,c=obj.user_input()\n",
    "obj.Area_calculator(a,b,c)"
   ]
  },
  {
   "cell_type": "code",
   "execution_count": null,
   "metadata": {},
   "outputs": [],
   "source": []
  },
  {
   "cell_type": "markdown",
   "metadata": {},
   "source": [
    "#### 1.2 Write a function filter_long_words() that takes a list of words and an integer n and returns the list of words that are longer than n\n"
   ]
  },
  {
   "cell_type": "code",
   "execution_count": 11,
   "metadata": {},
   "outputs": [
    {
     "name": "stdout",
     "output_type": "stream",
     "text": [
      "Enter list of words,separated by space :manish raj is from dasari\n",
      "Enter value of n: 4\n",
      "['manish', 'from', 'dasari']\n"
     ]
    }
   ],
   "source": [
    "def filter_long_words():\n",
    "    string_of_words=input('Enter list of words,separated by space :')\n",
    "    list_of_words=string_of_words.split()\n",
    "    word_len=int(input('Enter value of n: '))\n",
    "    ans_list=[]\n",
    "    for i in range(len(list_of_words)):\n",
    "        if len(list_of_words[i]) >=word_len:\n",
    "            ans_list.append(list_of_words[i])\n",
    "    return ans_list\n",
    "print(filter_long_words())"
   ]
  },
  {
   "cell_type": "code",
   "execution_count": null,
   "metadata": {},
   "outputs": [],
   "source": []
  },
  {
   "cell_type": "markdown",
   "metadata": {},
   "source": [
    "#### 2.1 Write a Python program using function concept that maps list of words into a list of integers representing the lengths of the corresponding words.\n",
    "Hint: If a list [ ab,cde,erty] is passed on to the python function output should come as [2,3,4]\n",
    "Here 2,3 and 4 are the lengths of the words in the list."
   ]
  },
  {
   "cell_type": "code",
   "execution_count": 22,
   "metadata": {},
   "outputs": [
    {
     "name": "stdout",
     "output_type": "stream",
     "text": [
      "Enter list of words with comma separated: manish,raj,is,from,dasari\n",
      "Required output is:  [6, 3, 2, 4, 6]\n"
     ]
    }
   ],
   "source": [
    "def word_length_finder(args):\n",
    "    ans_lis2=[]\n",
    "    for i in range(len(args)):\n",
    "        ans_lis2.append(len(args[i]))                  \n",
    "    return ans_lis2\n",
    "\n",
    "list_of_words2=input('Enter list of words with comma separated: ').split(',')\n",
    "print('Required output is: ',word_length_finder(list_of_words2))"
   ]
  },
  {
   "cell_type": "code",
   "execution_count": null,
   "metadata": {},
   "outputs": [],
   "source": []
  },
  {
   "cell_type": "markdown",
   "metadata": {},
   "source": [
    "#### 2.2 Write a Python function which takes a character (i.e. a string of length 1) and returns True if it is a vowel, False otherwise."
   ]
  },
  {
   "cell_type": "code",
   "execution_count": null,
   "metadata": {},
   "outputs": [
    {
     "name": "stdout",
     "output_type": "stream",
     "text": [
      "---In order to exit,hit Q---\n",
      "Enter character to check if it a vowel: manish raj\n",
      "!! Enter only 1 character !!\n",
      "Enter character to check if it a vowel: K\n",
      "Output is: False\n",
      "Enter character to check if it a vowel: l\n",
      "Output is: False\n",
      "Enter character to check if it a vowel: i\n",
      "Output is: True\n",
      "Enter character to check if it a vowel: I\n",
      "Output is: True\n",
      "Enter character to check if it a vowel: o\n",
      "Output is: True\n"
     ]
    }
   ],
   "source": [
    "def vowel_check():\n",
    "    vowels=['A','E','I','O','U','a','e','i','o','u']\n",
    "    print('---In order to exit,hit Q---')\n",
    "    while(True): \n",
    "        inp=input('Enter character to check if it a vowel: ')\n",
    "        if len(inp)!=1:\n",
    "            print('!! Enter only 1 character !!')\n",
    "            continue\n",
    "            \n",
    "        if (inp =='Q'):\n",
    "            break\n",
    "        else:\n",
    "            if inp in vowels:\n",
    "                print('Output is: True') \n",
    "            else:\n",
    "                print('Output is: False')\n",
    "            \n",
    "\n",
    "vowel_check()\n"
   ]
  }
 ],
 "metadata": {
  "kernelspec": {
   "display_name": "Python 3",
   "language": "python",
   "name": "python3"
  },
  "language_info": {
   "codemirror_mode": {
    "name": "ipython",
    "version": 3
   },
   "file_extension": ".py",
   "mimetype": "text/x-python",
   "name": "python",
   "nbconvert_exporter": "python",
   "pygments_lexer": "ipython3",
   "version": "3.7.3"
  }
 },
 "nbformat": 4,
 "nbformat_minor": 2
}
